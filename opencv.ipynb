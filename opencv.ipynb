{
 "cells": [
  {
   "cell_type": "code",
   "execution_count": 47,
   "metadata": {},
   "outputs": [
    {
     "data": {
      "text/plain": [
       "'4.4.0'"
      ]
     },
     "execution_count": 47,
     "metadata": {},
     "output_type": "execute_result"
    }
   ],
   "source": [
    "import cv2 # kütüphane versiyon kontrol\n",
    "cv2.__version__"
   ]
  },
  {
   "cell_type": "code",
   "execution_count": 48,
   "metadata": {},
   "outputs": [
    {
     "data": {
      "text/plain": [
       "'1.18.5'"
      ]
     },
     "execution_count": 48,
     "metadata": {},
     "output_type": "execute_result"
    }
   ],
   "source": [
    "import numpy # kütüphane versiyon kontrol\n",
    "numpy.__version__"
   ]
  },
  {
   "cell_type": "code",
   "execution_count": 51,
   "metadata": {},
   "outputs": [
    {
     "name": "stdout",
     "output_type": "stream",
     "text": [
      "4.4.0\n",
      "1.18.5\n"
     ]
    }
   ],
   "source": [
    "import cv2, numpy\n",
    "print(cv2.__version__)\n",
    "print(numpy.__version__)"
   ]
  },
  {
   "cell_type": "code",
   "execution_count": 52,
   "metadata": {},
   "outputs": [
    {
     "name": "stdout",
     "output_type": "stream",
     "text": [
      "4.4.0\n",
      "1.18.5\n"
     ]
    }
   ],
   "source": [
    "import cv2 as cv # as'in anlamı ( cv2'i kod içinde cv olarak çağır!) demektir.\n",
    "import numpy as np\n",
    "print(cv.__version__)\n",
    "print(np.__version__)"
   ]
  },
  {
   "cell_type": "code",
   "execution_count": 3,
   "metadata": {},
   "outputs": [],
   "source": [
    "# kütüphaneleri import etme\n",
    "import cv2 as cv\n",
    "\n",
    "# resim dosyasını okuma\n",
    "image = cv.imread('pic.png') # dosya uzantısının .png olduğuna dikkat edin!\n",
    "\n",
    "# resmi görüntüleme\n",
    "# ilk parametre görüntü penceresinin adı ikinci parametre görüntülemek istediğiniz resim\n",
    "cv.imshow('image',image) \n",
    "\n",
    "# herhangi bir tuşa basıp devam et\n",
    "cv.waitKey(0) # 0 parametresi herhangi bir tuşa basıldığında devam etmesini sağlar.\n",
    "cv.destroyAllWindows() # resmi ekrandan kapatır."
   ]
  },
  {
   "cell_type": "markdown",
   "metadata": {},
   "source": [
    "##### Yukarıdaki kodu çalıştırdığınızda görmeniz gereken::"
   ]
  },
  {
   "cell_type": "markdown",
   "metadata": {},
   "source": [
    "![](images/ff/l2.png)"
   ]
  },
  {
   "cell_type": "code",
   "execution_count": 12,
   "metadata": {},
   "outputs": [
    {
     "name": "stdout",
     "output_type": "stream",
     "text": [
      "[1, 4, 1, 2, 3, 4, 6]\n",
      "[1 4 1 2 3 4 6]\n",
      "\n",
      "\n",
      "<class 'list'>\n",
      "<class 'numpy.ndarray'>\n"
     ]
    }
   ],
   "source": [
    "# kütüphaneleri import etme\n",
    "import numpy as np\n",
    "\n",
    "my_list = [1,4,1,2,3,4,6]\n",
    "\n",
    "my_list_numpy = np.array(my_list)\n",
    "\n",
    "print(my_list)\n",
    "print(my_list_numpy)\n",
    "print(\"\\n\")\n",
    "print(type(my_list))\n",
    "print(type(my_list_numpy))"
   ]
  },
  {
   "cell_type": "code",
   "execution_count": 17,
   "metadata": {},
   "outputs": [
    {
     "data": {
      "text/plain": [
       "datetime.timedelta(0)"
      ]
     },
     "execution_count": 17,
     "metadata": {},
     "output_type": "execute_result"
    }
   ],
   "source": [
    "import datetime\n",
    "\n",
    "old_time = datetime.datetime.now() # zamanı ölç\n",
    "my_list = [1,4,1,2,3,4,6]\n",
    "for i in my_list:\n",
    "    i += 1\n",
    "new_time = datetime.datetime.now() # zamanı ölç\n",
    "new_time - old_time # geçen süre"
   ]
  },
  {
   "cell_type": "code",
   "execution_count": 18,
   "metadata": {},
   "outputs": [
    {
     "data": {
      "text/plain": [
       "datetime.timedelta(0)"
      ]
     },
     "execution_count": 18,
     "metadata": {},
     "output_type": "execute_result"
    }
   ],
   "source": [
    "import datetime\n",
    "import numpy as np\n",
    "\n",
    "old_time = datetime.datetime.now() # zamanı ölç\n",
    "my_list = [1,4,1,2,3,4,6]\n",
    "my_list_numpy = np.array(my_list)\n",
    "my_list_numpy += 1\n",
    "new_time = datetime.datetime.now() # zamanı ölç\n",
    "new_time - old_time # geçen süre"
   ]
  },
  {
   "cell_type": "code",
   "execution_count": 19,
   "metadata": {},
   "outputs": [
    {
     "data": {
      "text/plain": [
       "datetime.timedelta(0)"
      ]
     },
     "execution_count": 19,
     "metadata": {},
     "output_type": "execute_result"
    }
   ],
   "source": [
    "import datetime\n",
    "\n",
    "old_time = datetime.datetime.now() # zamanı ölç\n",
    "my_list = list(range(1000))\n",
    "for i in my_list:\n",
    "    i += 1\n",
    "new_time = datetime.datetime.now() # zamanı ölç\n",
    "new_time - old_time # geçen süre"
   ]
  },
  {
   "cell_type": "code",
   "execution_count": 20,
   "metadata": {},
   "outputs": [
    {
     "data": {
      "text/plain": [
       "datetime.timedelta(microseconds=5200)"
      ]
     },
     "execution_count": 20,
     "metadata": {},
     "output_type": "execute_result"
    }
   ],
   "source": [
    "import datetime\n",
    "import numpy as np\n",
    "\n",
    "old_time = datetime.datetime.now() # zamanı ölç\n",
    "my_list = list(range(1000))\n",
    "my_list_numpy = np.array(my_list)\n",
    "my_list_numpy += 1\n",
    "new_time = datetime.datetime.now() # zamanı ölç\n",
    "new_time - old_time # geçen süre"
   ]
  },
  {
   "cell_type": "code",
   "execution_count": 22,
   "metadata": {},
   "outputs": [],
   "source": [
    "# kütüphaneleri import etme\n",
    "import cv2 as cv\n",
    "\n",
    "# resim dosyasını okuma\n",
    "image = cv.imread('pic.png') # dosya uzantısının .png olduğuna dikkat edin!\n",
    "image_gray = cv.cvtColor(image, cv.COLOR_BGR2GRAY) # görüntüyü gri tona çevirme\n",
    "\n",
    "# resmi görüntüleme\n",
    "# ilk parametre görüntü penceresinin adı ikinci parametre görüntülemek istediğiniz resim\n",
    "cv.imshow('image',image) \n",
    "cv.imshow('image_gray',image_gray) \n",
    "\n",
    "# herhangi bir tuşa basıp devam et\n",
    "cv.waitKey(0) # 0 parametresi herhangi bir tuşa basıldığında devam etmesini sağlar.\n",
    "cv.destroyAllWindows() # resmi ekrandan kapatır."
   ]
  },
  {
   "cell_type": "markdown",
   "metadata": {},
   "source": [
    "##### Yukarıdaki kodu çalıştırdığınızda görmeniz gereken::"
   ]
  },
  {
   "cell_type": "markdown",
   "metadata": {},
   "source": [
    "![](images/ff/l1.png)"
   ]
  },
  {
   "cell_type": "code",
   "execution_count": 25,
   "metadata": {},
   "outputs": [],
   "source": [
    "# kütüphaneleri import etme\n",
    "import cv2 as cv\n",
    "\n",
    "# resim dosyasını okuma\n",
    "image = cv.imread('pic.png') # dosya uzantısının .png olduğuna dikkat edin!\n",
    "image_hsv = cv.cvtColor(image, cv.COLOR_BGR2HSV) # görüntüyü hsv türüne çevirme\n",
    "\n",
    "# resmi görüntüleme\n",
    "# ilk parametre görüntü penceresinin adı ikinci parametre görüntülemek istediğiniz resim\n",
    "cv.imshow('image',image) \n",
    "cv.imshow('image_hsv',image_hsv) \n",
    "# herhangi bir tuşa basıp devam et\n",
    "cv.waitKey(0) # 0 parametresi herhangi bir tuşa basıldığında devam etmesini sağlar.\n",
    "cv.destroyAllWindows() # resmi ekrandan kapatır."
   ]
  },
  {
   "cell_type": "markdown",
   "metadata": {},
   "source": [
    "![](images/ff/l3.png)"
   ]
  },
  {
   "cell_type": "markdown",
   "metadata": {},
   "source": [
    "# Nedir bu HSV ?\n",
    "* https://py2py.com/we-already-have-rgb-so-why-we-need-hsv/\n",
    "* https://stackoverflow.com/questions/45070661/pythonopencv-how-to-plot-hsv-range\n",
    "* https://www.quora.com/Why-use-an-HSV-image-for-color-detection-rather-than-an-RGB-image?share=1\n",
    "* https://dsp.stackexchange.com/questions/2687/why-do-we-use-the-hsv-colour-space-so-often-in-vision-and-image-processing\n",
    "![](images/ff/hsv.png)"
   ]
  },
  {
   "cell_type": "markdown",
   "metadata": {},
   "source": [
    "### Şimdi aşağıdaki resimden sarı bölgeleri algılamak isteyelim.\n",
    "![](images/pic.png)\n",
    "### Bunun için hsv haritasından sarı bölgeyi bulalım.\n",
    "![](images/ff/jj.png)\n",
    "### Değerlerin (20 ile 45) arasında olduğunu gördünüz. Şimdi kodu inceleyelim."
   ]
  },
  {
   "cell_type": "code",
   "execution_count": 4,
   "metadata": {},
   "outputs": [],
   "source": [
    "# kütühaneleri import etme\n",
    "import cv2 as cv\n",
    "import numpy as np\n",
    "\n",
    "# resmi çağırma\n",
    "image = cv.imread(\"images/pic.png\")\n",
    "# hsv türüne dönüştürme\n",
    "image_hsv = cv.cvtColor(image, cv.COLOR_BGR2HSV)\n",
    "\n",
    "# alt ve üst değerileri nasıl yazdığımızı inceleyelim. 40 değerlerini görmezden geliniz.\n",
    "lower_yellow = np.array([20,140,40])\n",
    "# Genel olarak son iki değerler 255 alır. Bunu şimdilik görmezden gelin.\n",
    "upper_yellow = np.array([45,255,255])\n",
    "\n",
    "# maske oluşturma \n",
    "# Belirlediğimiz değerler arasındaki pikselleri beyaz, diğerleri siyah yapar.\n",
    "mask_yellow = cv.inRange(image_hsv,lower_yellow,upper_yellow)\n",
    "\n",
    "# ekranda gösterme\n",
    "cv.imshow('image',image)\n",
    "cv.imshow('image_hsv',image_hsv)\n",
    "cv.imshow('mask_yellow',mask_yellow)\n",
    "\n",
    "# herhangi bir tuş ve çıkış\n",
    "cv.waitKey(0)\n",
    "cv.destroyAllWindows()"
   ]
  },
  {
   "cell_type": "code",
   "execution_count": 5,
   "metadata": {},
   "outputs": [],
   "source": [
    "# kütühaneleri import etme\n",
    "import cv2 as cv\n",
    "import numpy as np\n",
    "\n",
    "image = cv.imread(\"images/pic.png\")\n",
    "\n",
    "def nothing(x):\n",
    "    pass\n",
    "\n",
    "cv.namedWindow(\"kontrol paneli\")\n",
    "\n",
    "cv.createTrackbar(\"L_H\",\"kontrol paneli\",0, 255, nothing)\n",
    "cv.createTrackbar(\"L_S\",\"kontrol paneli\",0, 255, nothing)\n",
    "cv.createTrackbar(\"L_V\",\"kontrol paneli\",0, 255, nothing)\n",
    "\n",
    "cv.createTrackbar(\"U_H\",\"kontrol paneli\",0, 255, nothing)\n",
    "cv.createTrackbar(\"U_S\",\"kontrol paneli\",0, 255, nothing)\n",
    "cv.createTrackbar(\"U_V\",\"kontrol paneli\",0, 255, nothing)\n",
    "\n",
    "while True:\n",
    "    image_hsv = cv.cvtColor(image, cv.COLOR_BGR2HSV)\n",
    "\n",
    "    l_h = cv.getTrackbarPos(\"H_S\",\"kontrol paneli\")\n",
    "    l_s = cv.getTrackbarPos(\"L_S\",\"kontrol paneli\")\n",
    "    l_v = cv.getTrackbarPos(\"L_V\",\"kontrol paneli\")\n",
    "    u_h = cv.getTrackbarPos(\"U_H\",\"kontrol paneli\")\n",
    "    u_s = cv.getTrackbarPos(\"U_S\",\"kontrol paneli\")\n",
    "    u_v = cv.getTrackbarPos(\"U_V\",\"kontrol paneli\")\n",
    "    \n",
    "    lower_yellow = np.array([l_h,l_s,l_v])\n",
    "    upper_yellow = np.array([u_h,u_s,u_v])\n",
    "\n",
    "\n",
    "    mask_yellow = cv.inRange(image_hsv,lower_yellow,upper_yellow)\n",
    "\n",
    "\n",
    "    cv.imshow('image',image)\n",
    "    cv.imshow('image_hsv',image_hsv)\n",
    "    cv.imshow('mask_yellow',mask_yellow)\n",
    "\n",
    "    k = cv.waitKey(25) & 0xFF\n",
    "    if k == 27:\n",
    "        break\n",
    "\n",
    "cv.destroyAllWindows()"
   ]
  },
  {
   "cell_type": "code",
   "execution_count": 2,
   "metadata": {},
   "outputs": [],
   "source": [
    "# kütüphaneleri import etme\n",
    "import cv2 as cv\n",
    "import numpy as np\n",
    "\n",
    "# kameraya erişme DİKKAT KAMERANIZ AÇILACAK! :D\n",
    "cap = cv.VideoCapture(0)\n",
    "\n",
    "while True:\n",
    "    # kameradan görüntü al\n",
    "    _, frame = cap.read()\n",
    "    # görüntüle\n",
    "    cv.imshow('frame', frame)\n",
    "    \n",
    "    # exit işlemi\n",
    "    k = cv.waitKey(25) & 0xFF\n",
    "    if k == 27:\n",
    "        break\n",
    "\n",
    "# kamera kapat\n",
    "cap.release()\n",
    "cv.destroyAllWindows()"
   ]
  },
  {
   "cell_type": "code",
   "execution_count": 2,
   "metadata": {},
   "outputs": [],
   "source": [
    "# kütüphaneleri import etme\n",
    "import cv2 as cv\n",
    "import numpy as np\n",
    "\n",
    "# kameraya erişme\n",
    "cap = cv.VideoCapture(1)\n",
    "\n",
    "while True:\n",
    "    # kameradan görüntü al\n",
    "    _, frame = cap.read()\n",
    "    # görüntüle\n",
    "    if _:\n",
    "        cv.imshow('frame', frame)\n",
    "\n",
    "        # exit işlemi\n",
    "        k = cv.waitKey(25) & 0xFF\n",
    "        if k == 27:\n",
    "            break\n",
    "    else:\n",
    "        print(\"Kamera yok!\")\n",
    "        break\n",
    "\n",
    "# kamera kapat\n",
    "cap.release()\n",
    "cv.destroyAllWindows()"
   ]
  },
  {
   "cell_type": "code",
   "execution_count": 2,
   "metadata": {},
   "outputs": [],
   "source": [
    "# kütüphaneleri import etme\n",
    "import cv2 as cv\n",
    "import numpy as np\n",
    "\n",
    "# kameraya erişme\n",
    "cap = cv.VideoCapture(\"videos/threeball.mp4\")\n",
    "\n",
    "lower_blue = np.array([110,110,100])\n",
    "upper_blue = np.array([140,255,170])\n",
    "\n",
    "while True:\n",
    "    # kameradan görüntü al\n",
    "    _, frame = cap.read()\n",
    "    frame_hsv = cv.cvtColor(frame, cv.COLOR_BGR2HSV)\n",
    "    \n",
    "    mask_blue = cv.inRange(frame_hsv,lower_blue,upper_blue)\n",
    "        \n",
    "    # görüntüle\n",
    "    if _:\n",
    "        cv.imshow('frame', frame)\n",
    "        cv.imshow('mask_blue',mask_blue)\n",
    "        # exit işlemi\n",
    "        k = cv.waitKey(100) & 0xFF\n",
    "        if k == 27:\n",
    "            break\n",
    "    else:\n",
    "        print(\"Kamera yok!\")\n",
    "        break\n",
    "\n",
    "# kamera kapat\n",
    "cap.release()\n",
    "cv.destroyAllWindows()"
   ]
  },
  {
   "cell_type": "code",
   "execution_count": 38,
   "metadata": {},
   "outputs": [],
   "source": [
    "# import numpy as np\n",
    "import cv2\n",
    "\n",
    "img = cv2.imread('images/watch.jpg')\n",
    "cv2.line(img,(0,0),(50,50),(255,255,255),10)\n",
    "cv2.rectangle(img,(10,25),(100,150),(0,0,255),2)\n",
    "cv2.circle(img,(147,63), 20, (0,255,0), -1)\n",
    "pts = np.array([[50,50],[20,30],[70,20],[50,10]], np.int32)\n",
    "pts = pts.reshape((-1,1,2))\n",
    "cv2.polylines(img, [pts], True, (0,255,255), 3)\n",
    "font = cv2.FONT_HERSHEY_SIMPLEX\n",
    "cv2.putText(img,'OpenCV Tuts!',(10,100), font, 1, (200,255,155), 2, cv2.LINE_AA)\n",
    "cv2.imshow('image',img)\n",
    "cv2.waitKey(0)\n",
    "cv2.destroyAllWindows()"
   ]
  },
  {
   "cell_type": "code",
   "execution_count": 1,
   "metadata": {},
   "outputs": [],
   "source": [
    "import numpy as np \n",
    "import cv2 as cv\n",
    "\n",
    "cap = cv.VideoCapture(\"videos/video.mp4\")\n",
    "\n",
    "tracker = cv.TrackerMOSSE_create()\n",
    "_,frame = cap.read()\n",
    "bbox = cv.selectROI(\"Tracking\", frame, False)\n",
    "tracker.init(frame,bbox)\n",
    "\n",
    "x , y, w, h = int(bbox[0]), int(bbox[1]), int(bbox[2]), int(bbox[3])\n",
    "x_v = [x+(w/2)-30,x+(w/2)+30]\n",
    "y_v = [x+(w/2)-30,x+(w/2)+30]\n",
    "\n",
    "def drawBox(frame,bbox):\n",
    "    x , y, w, h = int(bbox[0]), int(bbox[1]), int(bbox[2]), int(bbox[3])\n",
    "    cv.rectangle(frame, (x,y),(x+w,y+h),(255,0,255),3,1)\n",
    "    cv.putText(frame, \"Tracking\", (50,75), cv.FONT_HERSHEY_SIMPLEX, 0.7, (0,255,0), 2)\n",
    "    \n",
    "while True:\n",
    "    _,frame = cap.read()\n",
    "    __,bbox = tracker.update(frame)\n",
    "    \n",
    "    if __:\n",
    "        drawBox(frame, bbox)\n",
    "    else:\n",
    "        cv.putText(frame, \"LOST\", (50,75), cv.FONT_HERSHEY_SIMPLEX, 0.7, (0,0,255),2)\n",
    "    \n",
    "    cv.imshow('frame', frame)\n",
    "    k = cv.waitKey(25) & 0xFF\n",
    "    if k == 27:\n",
    "        break\n",
    "\n",
    "cap.release()\n",
    "cv.destroyAllWindows()"
   ]
  },
  {
   "cell_type": "code",
   "execution_count": 3,
   "metadata": {},
   "outputs": [],
   "source": [
    "# j.png fotoğrafını görüntüleme\n",
    "import cv2 \n",
    "import numpy as np\n",
    "\n",
    "image = cv2.imread('images/j.png')\n",
    "\n",
    "cv2.imshow('image',image)\n",
    "cv2.waitKey(0)\n",
    "cv2.destroyAllWindows()"
   ]
  },
  {
   "cell_type": "code",
   "execution_count": 9,
   "metadata": {},
   "outputs": [],
   "source": [
    "import cv2 \n",
    "import numpy as np\n",
    "\n",
    "image = cv2.imread('images/j.png')\n",
    "# erosion uygulama\n",
    "kernel = np.ones((5,5),np.uint8)\n",
    "erosion = cv.erode(image,kernel,iterations = 1)\n",
    "\n",
    "cv2.imshow('image',image)\n",
    "cv2.imshow('erosion',erosion)\n",
    "cv2.waitKey(0)\n",
    "cv2.destroyAllWindows()"
   ]
  },
  {
   "cell_type": "markdown",
   "metadata": {},
   "source": [
    "![](images/ff/erosion.png)\n",
    "### Erosion uygulandığında \n",
    "![](images/ff/erosion_1.png)"
   ]
  },
  {
   "cell_type": "code",
   "execution_count": 12,
   "metadata": {},
   "outputs": [],
   "source": [
    "import cv2 \n",
    "import numpy as np\n",
    "\n",
    "image = cv2.imread('images/erosion_deneme.png')\n",
    "# erosion uygulama\n",
    "kernel = np.ones((5,5),np.uint8)\n",
    "erosion = cv.erode(image,kernel,iterations = 1)\n",
    "\n",
    "cv2.imshow('image',image)\n",
    "cv2.imshow('erosion',erosion)\n",
    "cv2.waitKey(0)\n",
    "cv2.destroyAllWindows()"
   ]
  },
  {
   "cell_type": "code",
   "execution_count": 17,
   "metadata": {},
   "outputs": [],
   "source": [
    "import cv2 \n",
    "import numpy as np\n",
    "\n",
    "image = cv2.imread('images/j.png')\n",
    "# dilation uygulama\n",
    "kernel = np.ones((5,5),np.uint8)\n",
    "dilation = cv.dilate(image,kernel,iterations = 1)\n",
    "\n",
    "cv2.imshow('image',image)\n",
    "cv2.imshow('dilation',dilation)\n",
    "cv2.waitKey(0)\n",
    "cv2.destroyAllWindows()"
   ]
  },
  {
   "cell_type": "markdown",
   "metadata": {},
   "source": [
    "![](images/ff/erosion.png)\n",
    "### Dilation uygulandığında \n",
    "![](images/ff/dilation_1.png)"
   ]
  },
  {
   "cell_type": "code",
   "execution_count": 33,
   "metadata": {},
   "outputs": [],
   "source": [
    "import cv2 \n",
    "import numpy as np\n",
    "\n",
    "image = cv2.imread('images/dilation_deneme.png')\n",
    "# dilation uygulama\n",
    "kernel = np.ones((5,5),np.uint8)\n",
    "dilation = cv.dilate(image,kernel,iterations = 1)\n",
    "\n",
    "cv2.imshow('image',image)\n",
    "cv2.imshow('dilation',dilation)\n",
    "cv2.waitKey(0)\n",
    "cv2.destroyAllWindows()"
   ]
  },
  {
   "cell_type": "code",
   "execution_count": 21,
   "metadata": {},
   "outputs": [],
   "source": [
    "# j_open.png görüntüleme\n",
    "import cv2 \n",
    "import numpy as np\n",
    "\n",
    "image = cv2.imread('images/j_open.png')\n",
    "\n",
    "cv2.imshow('image',image)\n",
    "\n",
    "cv2.waitKey(0)\n",
    "cv2.destroyAllWindows()"
   ]
  },
  {
   "cell_type": "code",
   "execution_count": 29,
   "metadata": {},
   "outputs": [],
   "source": [
    "# j_open.png görüntüleme\n",
    "import cv2 \n",
    "import numpy as np\n",
    "\n",
    "image = cv2.imread('images/j_open.png')\n",
    "# Opening işlemi uygulama\n",
    "kernel = np.ones((5,5),np.uint8)\n",
    "opening = cv.morphologyEx(image, cv.MORPH_OPEN, kernel)\n",
    "\n",
    "cv2.imshow('image',image)\n",
    "cv2.imshow('opening',opening)\n",
    "cv2.waitKey(0)\n",
    "cv2.destroyAllWindows()"
   ]
  },
  {
   "cell_type": "code",
   "execution_count": 26,
   "metadata": {},
   "outputs": [],
   "source": [
    "# open_deneme.png görüntüleme\n",
    "import cv2 \n",
    "import numpy as np\n",
    "\n",
    "# open_deneme.png resimne bakın.\n",
    "# ortada 50x50 kare ve 10x10'luk kareler bulunuyor.\n",
    "image = cv2.imread('images/open_deneme.png')\n",
    "# Opening işleminin yaptığı kernel boyutundan küçük olanları yoksaymaktır.\n",
    "# bizim kernelimiz 11x11 ve 10x10'luk kareler yok sayılarak temiz bir görüntü elde edilir.\n",
    "kernel = np.ones((11,11),np.uint8)\n",
    "opening = cv.morphologyEx(image, cv.MORPH_OPEN, kernel)\n",
    "\n",
    "cv2.imshow('image',image)\n",
    "cv2.imshow('opening',opening)\n",
    "cv2.waitKey(0)\n",
    "cv2.destroyAllWindows()"
   ]
  },
  {
   "cell_type": "code",
   "execution_count": 28,
   "metadata": {},
   "outputs": [],
   "source": [
    "# j_close.png görüntüleme\n",
    "import cv2 \n",
    "import numpy as np\n",
    "\n",
    "image = cv2.imread('images/j_close.png')\n",
    "\n",
    "kernel = np.ones((5,5),np.uint8)\n",
    "opening = cv.morphologyEx(image, cv.MORPH_CLOSE, kernel)\n",
    "\n",
    "cv2.imshow('image',image)\n",
    "cv2.imshow('opening',opening)\n",
    "cv2.waitKey(0)\n",
    "cv2.destroyAllWindows()"
   ]
  },
  {
   "cell_type": "code",
   "execution_count": null,
   "metadata": {},
   "outputs": [],
   "source": [
    "# j_open_deneme.png görüntüleme\n",
    "import cv2 \n",
    "import numpy as np\n",
    "\n",
    "image = cv2.imread('images/open_deneme.png')\n",
    "\n",
    "kernel = np.ones((11,11),np.uint8)\n",
    "opening = cv.morphologyEx(image, cv.MORPH_OPEN, kernel)\n",
    "\n",
    "cv2.imshow('image',image)\n",
    "cv2.imshow('opening',opening)\n",
    "cv2.waitKey(0)\n",
    "cv2.destroyAllWindows()"
   ]
  },
  {
   "cell_type": "code",
   "execution_count": 32,
   "metadata": {},
   "outputs": [],
   "source": [
    "# close_deneme.png görüntüleme\n",
    "import cv2 \n",
    "import numpy as np\n",
    "# bu sefer resmimizde 200x200'lük beyaz bir kare ve içinde 50x50, 20x20, 10x10'luk kareler var.\n",
    "image = cv2.imread('images/close_deneme.png')\n",
    "# Closing ile yapılan belirtilen kernel alanından küçük kısımlaı beyaz ile doldurmaktır.\n",
    "kernel = np.ones((11,11),np.uint8)\n",
    "# yukarıdaki kerneli yorum satırına alıp aşağıdakini deneyebilirsiniz.\n",
    "# kernel = np.ones((21,21),np.uint8)\n",
    "opening = cv.morphologyEx(image, cv.MORPH_CLOSE, kernel)\n",
    "\n",
    "cv2.imshow('image',image)\n",
    "cv2.imshow('opening',opening)\n",
    "cv2.waitKey(0)\n",
    "cv2.destroyAllWindows()"
   ]
  },
  {
   "cell_type": "code",
   "execution_count": null,
   "metadata": {},
   "outputs": [],
   "source": []
  },
  {
   "cell_type": "code",
   "execution_count": null,
   "metadata": {},
   "outputs": [],
   "source": []
  },
  {
   "cell_type": "code",
   "execution_count": null,
   "metadata": {},
   "outputs": [],
   "source": []
  },
  {
   "cell_type": "code",
   "execution_count": null,
   "metadata": {},
   "outputs": [],
   "source": []
  },
  {
   "cell_type": "markdown",
   "metadata": {},
   "source": [
    "# Notlar buraya kadar ------------------------------------------------------------------------------------------"
   ]
  },
  {
   "cell_type": "code",
   "execution_count": 71,
   "metadata": {},
   "outputs": [
    {
     "ename": "error",
     "evalue": "OpenCV(4.4.0) C:\\Users\\appveyor\\AppData\\Local\\Temp\\1\\pip-req-build-wwma2wne\\opencv\\modules\\imgproc\\src\\color.cpp:182: error: (-215:Assertion failed) !_src.empty() in function 'cv::cvtColor'\n",
     "output_type": "error",
     "traceback": [
      "\u001b[1;31m---------------------------------------------------------------------------\u001b[0m",
      "\u001b[1;31merror\u001b[0m                                     Traceback (most recent call last)",
      "\u001b[1;32m<ipython-input-71-8039720b87cc>\u001b[0m in \u001b[0;36m<module>\u001b[1;34m\u001b[0m\n\u001b[0;32m     11\u001b[0m \u001b[1;33m\u001b[0m\u001b[0m\n\u001b[0;32m     12\u001b[0m \u001b[0mimage\u001b[0m \u001b[1;33m=\u001b[0m \u001b[0mcv\u001b[0m\u001b[1;33m.\u001b[0m\u001b[0mimread\u001b[0m\u001b[1;33m(\u001b[0m\u001b[0mfile_path\u001b[0m\u001b[1;33m)\u001b[0m\u001b[1;33m\u001b[0m\u001b[1;33m\u001b[0m\u001b[0m\n\u001b[1;32m---> 13\u001b[1;33m \u001b[0mimage_hsv\u001b[0m \u001b[1;33m=\u001b[0m \u001b[0mcv\u001b[0m\u001b[1;33m.\u001b[0m\u001b[0mcvtColor\u001b[0m\u001b[1;33m(\u001b[0m\u001b[0mimage\u001b[0m\u001b[1;33m,\u001b[0m \u001b[0mcv\u001b[0m\u001b[1;33m.\u001b[0m\u001b[0mCOLOR_BGR2HSV\u001b[0m\u001b[1;33m)\u001b[0m\u001b[1;33m\u001b[0m\u001b[1;33m\u001b[0m\u001b[0m\n\u001b[0m\u001b[0;32m     14\u001b[0m \u001b[1;31m#image = cv.cvtColor(image, cv.COLOR_BGR2GRAY)\u001b[0m\u001b[1;33m\u001b[0m\u001b[1;33m\u001b[0m\u001b[1;33m\u001b[0m\u001b[0m\n\u001b[0;32m     15\u001b[0m \u001b[1;33m\u001b[0m\u001b[0m\n",
      "\u001b[1;31merror\u001b[0m: OpenCV(4.4.0) C:\\Users\\appveyor\\AppData\\Local\\Temp\\1\\pip-req-build-wwma2wne\\opencv\\modules\\imgproc\\src\\color.cpp:182: error: (-215:Assertion failed) !_src.empty() in function 'cv::cvtColor'\n"
     ]
    }
   ],
   "source": [
    "from skimage import filters, exposure\n",
    "import cv2 as cv\n",
    "import numpy as np\n",
    "import matplotlib.pyplot as plt\n",
    "import tkinter as tk \n",
    "from tkinter import filedialog \n",
    "\n",
    "root = tk.Tk() \n",
    "root.withdraw() \n",
    "file_path = filedialog.askopenfilename() \n",
    "\n",
    "image = cv.imread(file_path)\n",
    "image_hsv = cv.cvtColor(image, cv.COLOR_BGR2HSV)\n",
    "#image = cv.cvtColor(image, cv.COLOR_BGR2GRAY)\n",
    "\n",
    "img_eq = exposure.equalize_hist(image)\n",
    "cv.imshow('image',image)\n",
    "cv.imshow('img_eq',img_eq)\n",
    "cv.waitKey(0)\n",
    "cv.destroyAllWindows()"
   ]
  },
  {
   "cell_type": "code",
   "execution_count": 20,
   "metadata": {},
   "outputs": [],
   "source": [
    "from skimage import exposure\n",
    "import cv2 as cv\n",
    "import numpy as np\n",
    "import tkinter as tk \n",
    "from tkinter import filedialog \n",
    "import time\n",
    "\n",
    "root = tk.Tk() \n",
    "root.withdraw() \n",
    "file_path = filedialog.askopenfilename() \n",
    "\n",
    "image = cv.imread(file_path)\n",
    "image_hsv = cv.cvtColor(image, cv.COLOR_BGR2HSV)\n",
    "\n",
    "lower_blue = np.array([56,165,70])\n",
    "upper_blue = np.array([102,255,255])\n",
    "\n",
    "lower_red = np.array([0,153,95])\n",
    "upper_red = np.array([7,255,255])\n",
    "\n",
    "mask_blue = cv.inRange(image_hsv,lower_blue,upper_blue)\n",
    "mask_red = cv.inRange(image_hsv,lower_red,upper_red)\n",
    "\n",
    "M = cv.moments(mask_red)\n",
    "\n",
    "\n",
    "cX = int(M[\"m10\"] / M[\"m00\"])\n",
    "\n",
    "cY = int(M[\"m01\"] / M[\"m00\"])\n",
    "cv.circle(image, (cX, cY), 5, (255, 255, 255), -1)\n",
    "cv.putText(image, \"hedef\", (cX - 25, cY - 25),cv.FONT_HERSHEY_SIMPLEX, 0.5, (255, 255, 255), 2)\n",
    "cv.imshow('image',image)\n",
    "cv.imshow('image_hsv',image_hsv)\n",
    "cv.imshow('mask_blue',mask_blue)\n",
    "cv.imshow('mask_red',mask_red)\n",
    "\n",
    "cv.waitKey(0)\n",
    "cv.destroyAllWindows()"
   ]
  },
  {
   "cell_type": "code",
   "execution_count": 13,
   "metadata": {},
   "outputs": [
    {
     "ename": "ZeroDivisionError",
     "evalue": "float division by zero",
     "output_type": "error",
     "traceback": [
      "\u001b[1;31m---------------------------------------------------------------------------\u001b[0m",
      "\u001b[1;31mZeroDivisionError\u001b[0m                         Traceback (most recent call last)",
      "\u001b[1;32m<ipython-input-13-1d9573bcade8>\u001b[0m in \u001b[0;36m<module>\u001b[1;34m\u001b[0m\n\u001b[0;32m     15\u001b[0m     \u001b[0mM\u001b[0m \u001b[1;33m=\u001b[0m \u001b[0mcv\u001b[0m\u001b[1;33m.\u001b[0m\u001b[0mmoments\u001b[0m\u001b[1;33m(\u001b[0m\u001b[0mmask_blue\u001b[0m\u001b[1;33m)\u001b[0m\u001b[1;33m\u001b[0m\u001b[1;33m\u001b[0m\u001b[0m\n\u001b[0;32m     16\u001b[0m \u001b[1;33m\u001b[0m\u001b[0m\n\u001b[1;32m---> 17\u001b[1;33m     \u001b[0mcX\u001b[0m \u001b[1;33m=\u001b[0m \u001b[0mint\u001b[0m\u001b[1;33m(\u001b[0m\u001b[0mM\u001b[0m\u001b[1;33m[\u001b[0m\u001b[1;34m\"m10\"\u001b[0m\u001b[1;33m]\u001b[0m \u001b[1;33m/\u001b[0m \u001b[0mM\u001b[0m\u001b[1;33m[\u001b[0m\u001b[1;34m\"m00\"\u001b[0m\u001b[1;33m]\u001b[0m\u001b[1;33m)\u001b[0m\u001b[1;33m\u001b[0m\u001b[1;33m\u001b[0m\u001b[0m\n\u001b[0m\u001b[0;32m     18\u001b[0m \u001b[1;33m\u001b[0m\u001b[0m\n\u001b[0;32m     19\u001b[0m     \u001b[0mcY\u001b[0m \u001b[1;33m=\u001b[0m \u001b[0mint\u001b[0m\u001b[1;33m(\u001b[0m\u001b[0mM\u001b[0m\u001b[1;33m[\u001b[0m\u001b[1;34m\"m01\"\u001b[0m\u001b[1;33m]\u001b[0m \u001b[1;33m/\u001b[0m \u001b[0mM\u001b[0m\u001b[1;33m[\u001b[0m\u001b[1;34m\"m00\"\u001b[0m\u001b[1;33m]\u001b[0m\u001b[1;33m)\u001b[0m\u001b[1;33m\u001b[0m\u001b[1;33m\u001b[0m\u001b[0m\n",
      "\u001b[1;31mZeroDivisionError\u001b[0m: float division by zero"
     ]
    }
   ],
   "source": [
    "import cv2 as cv\n",
    "import numpy as np\n",
    "\n",
    "cap = cv.VideoCapture(\"threeball.mp4\")\n",
    "\n",
    "while True:\n",
    "    _,image = cap.read()\n",
    "    image_hsv = cv.cvtColor(image, cv.COLOR_BGR2HSV)\n",
    "\n",
    "    lower_blue = np.array([56,165,70])\n",
    "    upper_blue = np.array([102,255,255])\n",
    "\n",
    "    mask_blue = cv.inRange(image_hsv,lower_blue,upper_blue)\n",
    "\n",
    "    M = cv.moments(mask_blue)\n",
    "\n",
    "    cX = int(M[\"m10\"] / M[\"m00\"])\n",
    "\n",
    "    cY = int(M[\"m01\"] / M[\"m00\"])\n",
    "    cv.circle(image, (cX, cY), 5, (255, 255, 255), -1)\n",
    "    cv.putText(image, \"centroid\", (cX - 25, cY - 25),cv.FONT_HERSHEY_SIMPLEX, 0.5, (255, 255, 255), 2)\n",
    "    cv.imshow('image',image)\n",
    "    cv.imshow('image_hsv',image_hsv)\n",
    "    cv.imshow('mask_blue',mask_blue)\n",
    "\n",
    "    k = cv.waitKey(25)\n",
    "    if k == 27:\n",
    "        break\n",
    "        \n",
    "cap.release()\n",
    "cv.destroyAllWindows()"
   ]
  },
  {
   "cell_type": "code",
   "execution_count": null,
   "metadata": {},
   "outputs": [],
   "source": []
  }
 ],
 "metadata": {
  "kernelspec": {
   "display_name": "Python 3",
   "language": "python",
   "name": "python3"
  },
  "language_info": {
   "codemirror_mode": {
    "name": "ipython",
    "version": 3
   },
   "file_extension": ".py",
   "mimetype": "text/x-python",
   "name": "python",
   "nbconvert_exporter": "python",
   "pygments_lexer": "ipython3",
   "version": "3.8.3"
  }
 },
 "nbformat": 4,
 "nbformat_minor": 4
}
